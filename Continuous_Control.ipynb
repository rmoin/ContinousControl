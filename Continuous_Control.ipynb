{
 "cells": [
  {
   "cell_type": "markdown",
   "metadata": {},
   "source": [
    "# Continuous Control\n",
    "\n",
    "---\n",
    "\n",
    "In this notebook, we will make use of the Unity ML-Agents environment.\n",
    "\n",
    "### 1. Start the Environment\n",
    "\n",
    "We begin by importing the necessary packages. Please make sure to install [Unity ML-Agents](https://github.com/Unity-Technologies/ml-agents/blob/master/docs/Installation.md) and [NumPy](http://www.numpy.org/).  "
   ]
  },
  {
   "cell_type": "code",
   "execution_count": 1,
   "metadata": {
    "scrolled": false
   },
   "outputs": [
    {
     "name": "stdout",
     "output_type": "stream",
     "text": [
      "\u001b[31mtensorflow 1.7.1 has requirement numpy>=1.13.3, but you'll have numpy 1.12.1 which is incompatible.\u001b[0m\r\n",
      "\u001b[31mipython 6.5.0 has requirement prompt-toolkit<2.0.0,>=1.0.15, but you'll have prompt-toolkit 3.0.5 which is incompatible.\u001b[0m\r\n"
     ]
    }
   ],
   "source": [
    "#Don't need to run this cell. Check out the dependencies in README file\n",
    "!pip -q install ./python"
   ]
  },
  {
   "cell_type": "code",
   "execution_count": 2,
   "metadata": {},
   "outputs": [],
   "source": [
    "#Don't need to run this cell. This is only required during the training in Udacity workspaces\n",
    "#from workspace_utils import active_session"
   ]
  },
  {
   "cell_type": "code",
   "execution_count": 3,
   "metadata": {},
   "outputs": [],
   "source": [
    "from unityagents import UnityEnvironment\n",
    "import numpy as np"
   ]
  },
  {
   "cell_type": "code",
   "execution_count": 4,
   "metadata": {},
   "outputs": [],
   "source": [
    "import random\n",
    "import copy\n",
    "import matplotlib.pyplot as plt\n",
    "%matplotlib inline\n",
    "import time"
   ]
  },
  {
   "cell_type": "code",
   "execution_count": 5,
   "metadata": {},
   "outputs": [],
   "source": [
    "import torch\n",
    "import torch.nn.functional as F\n",
    "import torch.optim as optim\n",
    "import torch.nn.utils as U"
   ]
  },
  {
   "cell_type": "code",
   "execution_count": 6,
   "metadata": {},
   "outputs": [],
   "source": [
    "from collections import namedtuple, deque"
   ]
  },
  {
   "cell_type": "code",
   "execution_count": 7,
   "metadata": {},
   "outputs": [],
   "source": [
    "from model import Actor, Critic\n",
    "from utils import sample, update_targets, OUNoise"
   ]
  },
  {
   "cell_type": "code",
   "execution_count": 8,
   "metadata": {},
   "outputs": [],
   "source": [
    "## Hyperparameters\n",
    "\n",
    "## For Experience Replay\n",
    "BUFFER_SIZE = int(1e6)  # replay buffer size\n",
    "BATCH_SIZE = 128         # minibatch size\n",
    "\n",
    "## For Fixed-Q Target\n",
    "TAU = 1e-3              # for soft update of target parameters\n",
    "UPDATE_EVERY = 20       # how often to update the network. \n",
    "UPDATE_TIMES = 10       # and how many times to update\n",
    "\n",
    "# For Cumulative Reward\n",
    "GAMMA = 0.99            # discount factor\n",
    "\n",
    "## For Q Network\n",
    "LR_ACTOR = 1e-3         # learning rate of the actor\n",
    "LR_CRITIC = 1e-3        # learning rate of the critic\n",
    "\n",
    "WEIGHT_DECAY = 0        # L2 weight decay\n",
    "\n",
    "OU_SIGMA = 0.2          # Ornstein-Uhlenbeck noise parameter\n",
    "OU_THETA = 0.15         # Ornstein-Uhlenbeck noise parameter"
   ]
  },
  {
   "cell_type": "code",
   "execution_count": 9,
   "metadata": {},
   "outputs": [],
   "source": [
    "device = torch.device(\"cuda:0\" if torch.cuda.is_available() else \"cpu\")"
   ]
  },
  {
   "cell_type": "code",
   "execution_count": 10,
   "metadata": {},
   "outputs": [],
   "source": [
    "state_size = 33\n",
    "action_size = 4\n",
    "random_seed = 1\n",
    "seed = random.seed(random_seed)"
   ]
  },
  {
   "cell_type": "code",
   "execution_count": 11,
   "metadata": {},
   "outputs": [],
   "source": [
    "# Actor Network (w/ Target Network)\n",
    "actor_local = Actor(state_size, action_size, random_seed).to(device)\n",
    "actor_target = Actor(state_size, action_size, random_seed).to(device)\n",
    "actor_optimizer = optim.Adam(actor_local.parameters(), lr=LR_ACTOR)"
   ]
  },
  {
   "cell_type": "code",
   "execution_count": 12,
   "metadata": {},
   "outputs": [],
   "source": [
    "# Critic Network (w/ Target Network)\n",
    "critic_local = Critic(state_size, action_size, random_seed).to(device)\n",
    "critic_target = Critic(state_size, action_size, random_seed).to(device)\n",
    "critic_optimizer = optim.Adam(critic_local.parameters(), lr=LR_CRITIC, weight_decay=WEIGHT_DECAY)"
   ]
  },
  {
   "cell_type": "code",
   "execution_count": 13,
   "metadata": {},
   "outputs": [],
   "source": [
    "update_targets(critic_local, critic_target)\n",
    "update_targets(actor_local, actor_target)        "
   ]
  },
  {
   "cell_type": "code",
   "execution_count": 14,
   "metadata": {},
   "outputs": [],
   "source": [
    "# some util and data variables\n",
    "mu = 0.\n",
    "replay_memory = deque(maxlen=BUFFER_SIZE)\n",
    "experience = namedtuple(\"Experience\", field_names=[\"state\", \"action\", \"reward\", \"next_state\", \"done\"])\n",
    "# Noise process\n",
    "noise = OUNoise(action_size, random_seed, mu, OU_SIGMA, OU_THETA)"
   ]
  },
  {
   "cell_type": "markdown",
   "metadata": {},
   "source": [
    "Next, we will start the environment!"
   ]
  },
  {
   "cell_type": "code",
   "execution_count": 16,
   "metadata": {},
   "outputs": [
    {
     "name": "stderr",
     "output_type": "stream",
     "text": [
      "INFO:unityagents:\n",
      "'Academy' started successfully!\n",
      "Unity Academy name: Academy\n",
      "        Number of Brains: 1\n",
      "        Number of External Brains : 1\n",
      "        Lesson number : 0\n",
      "        Reset Parameters :\n",
      "\t\tgoal_speed -> 1.0\n",
      "\t\tgoal_size -> 5.0\n",
      "Unity brain name: ReacherBrain\n",
      "        Number of Visual Observations (per agent): 0\n",
      "        Vector Observation space type: continuous\n",
      "        Vector Observation space size (per agent): 33\n",
      "        Number of stacked Vector Observation: 1\n",
      "        Vector Action space type: continuous\n",
      "        Vector Action space size (per agent): 4\n",
      "        Vector Action descriptions: , , , \n"
     ]
    }
   ],
   "source": [
    "#Run this cell in Udacity workspace. Otherwise run the cell below\n",
    "\n",
    "# select this option to load version 1 (with a single agent) of the environment\n",
    "#env = UnityEnvironment(file_name='/data/Reacher_One_Linux_NoVis/Reacher_One_Linux_NoVis.x86_64')\n",
    "\n",
    "# select this option to load version 2 (with 20 agents) of the environment\n",
    "env = UnityEnvironment(file_name='/data/Reacher_Linux_NoVis/Reacher.x86_64')"
   ]
  },
  {
   "cell_type": "code",
   "execution_count": 17,
   "metadata": {
    "scrolled": false
   },
   "outputs": [],
   "source": [
    "#Run this cell locally on mac only. Otherwise run the above cell.\n",
    "#Renamed the Reacher.app to Reacher20.app to keep it seperate with a single agent version\n",
    "\n",
    "#env = UnityEnvironment(file_name=\"Reacher20.app\")"
   ]
  },
  {
   "cell_type": "markdown",
   "metadata": {},
   "source": [
    "Environments contain **_brains_** which are responsible for deciding the actions of their associated agents. Here we check for the first brain available, and set it as the default brain we will be controlling from Python."
   ]
  },
  {
   "cell_type": "code",
   "execution_count": 18,
   "metadata": {},
   "outputs": [],
   "source": [
    "# get the default brain\n",
    "brain_name = env.brain_names[0]\n",
    "brain = env.brains[brain_name]"
   ]
  },
  {
   "cell_type": "markdown",
   "metadata": {},
   "source": [
    "### 2. Examine the State and Action Spaces\n",
    "\n",
    "In this environment, a double-jointed arm can move to target locations. A reward of `+0.1` is provided for each step that the agent's hand is in the goal location. Thus, the goal of our agent is to maintain its position at the target location for as many time steps as possible.\n",
    "\n",
    "The observation space consists of `33` variables corresponding to position, rotation, velocity, and angular velocities of the arm.  Each action is a vector with four numbers, corresponding to torque applicable to two joints.  Every entry in the action vector must be a number between `-1` and `1`.\n",
    "\n",
    "Run the code cell below to print some information about the environment."
   ]
  },
  {
   "cell_type": "code",
   "execution_count": 19,
   "metadata": {},
   "outputs": [
    {
     "name": "stdout",
     "output_type": "stream",
     "text": [
      "Number of agents: 20\n",
      "Size of each action: 4\n",
      "There are 20 agents. Each observes a state with length: 33\n",
      "The state for the first agent looks like: [  0.00000000e+00  -4.00000000e+00   0.00000000e+00   1.00000000e+00\n",
      "  -0.00000000e+00  -0.00000000e+00  -4.37113883e-08   0.00000000e+00\n",
      "   0.00000000e+00   0.00000000e+00   0.00000000e+00   0.00000000e+00\n",
      "   0.00000000e+00   0.00000000e+00  -1.00000000e+01   0.00000000e+00\n",
      "   1.00000000e+00  -0.00000000e+00  -0.00000000e+00  -4.37113883e-08\n",
      "   0.00000000e+00   0.00000000e+00   0.00000000e+00   0.00000000e+00\n",
      "   0.00000000e+00   0.00000000e+00   5.75471878e+00  -1.00000000e+00\n",
      "   5.55726624e+00   0.00000000e+00   1.00000000e+00   0.00000000e+00\n",
      "  -1.68164849e-01]\n"
     ]
    }
   ],
   "source": [
    "# reset the environment\n",
    "env_info = env.reset(train_mode=True)[brain_name]\n",
    "\n",
    "# number of agents\n",
    "num_agents = len(env_info.agents)\n",
    "print('Number of agents:', num_agents)\n",
    "\n",
    "# size of each action\n",
    "action_size = brain.vector_action_space_size\n",
    "print('Size of each action:', action_size)\n",
    "\n",
    "# examine the state space \n",
    "states = env_info.vector_observations\n",
    "state_size = states.shape[1]\n",
    "print('There are {} agents. Each observes a state with length: {}'.format(states.shape[0], state_size))\n",
    "print('The state for the first agent looks like:', states[0])"
   ]
  },
  {
   "cell_type": "markdown",
   "metadata": {},
   "source": [
    "### 3. Take Random Actions in the Environment (Optional Step)\n",
    "\n",
    "In the next code cell, we will learn how to use the Python API to control the agent and receive feedback from the environment.\n",
    "\n",
    "Once this cell is executed, we will watch the agent's performance, if it selects an action at random with each time step.  A window should pop up that allows us to observe the agent, as it moves through the environment.  "
   ]
  },
  {
   "cell_type": "code",
   "execution_count": 21,
   "metadata": {},
   "outputs": [
    {
     "name": "stdout",
     "output_type": "stream",
     "text": [
      "Total score (averaged over agents) this episode: 0.20549999540671707\n",
      "Total steps in this episode: 1001\n"
     ]
    }
   ],
   "source": [
    "env_info = env.reset(train_mode=False)[brain_name]     # reset the environment    \n",
    "states = env_info.vector_observations                  # get the current state (for each agent)\n",
    "scores = np.zeros(num_agents)                          # initialize the score (for each agent)\n",
    "steps = 0\n",
    "while True:\n",
    "    actions = np.random.randn(num_agents, action_size) # select an action (for each agent)\n",
    "    actions = np.clip(actions, -1, 1)                  # all actions between -1 and 1\n",
    "    env_info = env.step(actions)[brain_name]           # send all actions to tne environment\n",
    "    next_states = env_info.vector_observations         # get next state (for each agent)\n",
    "    rewards = env_info.rewards                         # get reward (for each agent)\n",
    "    dones = env_info.local_done                        # see if episode finished\n",
    "    scores += env_info.rewards                         # update the score (for each agent)\n",
    "    states = next_states                               # roll over states to next time step\n",
    "    steps += 1\n",
    "    if np.any(dones):                                  # exit loop if episode finished\n",
    "        break\n",
    "print('Total score (averaged over agents) this episode: {}'.format(np.mean(scores)))\n",
    "print('Total steps in this episode: {}'.format(steps))"
   ]
  },
  {
   "cell_type": "markdown",
   "metadata": {},
   "source": [
    "### 4. Define Agent"
   ]
  },
  {
   "cell_type": "code",
   "execution_count": 20,
   "metadata": {},
   "outputs": [],
   "source": [
    "## Agent - one of the core logic of DDPG - To run INFERENCE on Actor Neural Network\n",
    "def agent(state, add_noise=True):\n",
    "    \"\"\"Returns actions for given state as per current policy.\"\"\"\n",
    "    state = torch.from_numpy(state).float().to(device)\n",
    "    actor_local.eval()\n",
    "    with torch.no_grad():\n",
    "        action = actor_local(state).cpu().data.numpy()\n",
    "    actor_local.train()\n",
    "    if add_noise:\n",
    "        action +=noise.sample()\n",
    "    return np.clip(action, -1, 1)"
   ]
  },
  {
   "cell_type": "markdown",
   "metadata": {},
   "source": [
    "### 5. Define Training of the Agent\n",
    "\n",
    "Or go straight to step 8 to test agent loaded with previuous trained weights (in its Neural Network)"
   ]
  },
  {
   "cell_type": "code",
   "execution_count": 21,
   "metadata": {},
   "outputs": [],
   "source": [
    "## Train Agent - One of the core logic of DDPG - To TRAIN Actor and Critic Neural NETWORK\n",
    "def train_agent(state, action, reward, next_state, done, timestep):\n",
    "    \"\"\"Update policy and value parameters using given batch of experience tuples.\n",
    "    Q_targets = r + γ * critic_target(next_state, actor_target(next_state))\n",
    "    where:\n",
    "        actor_target(state) -> action\n",
    "        critic_target(state, action) -> Q-value\n",
    "\n",
    "    Params\n",
    "    ======\n",
    "        experiences (Tuple[torch.Tensor]): tuple of (s, a, r, s', done) tuples \n",
    "        gamma (float): discount factor\n",
    "    \"\"\"\n",
    "    \"\"\"Save experience in replay memory, and use random sample from buffer to learn.\"\"\"\n",
    "       \n",
    "    e = experience(state, action, reward, next_state, done)\n",
    "    # Save experience / reward\n",
    "    replay_memory.append(e)\n",
    "        \n",
    "    # Learn, if enough samples are available in memory\n",
    "    if len(replay_memory) > BATCH_SIZE and timestep % UPDATE_EVERY == 0:\n",
    "        for _ in range(UPDATE_TIMES):\n",
    "            \n",
    "            experiences = sample(replay_memory, BATCH_SIZE)\n",
    "            states, actions, rewards, next_states, dones = experiences\n",
    "\n",
    "            # ---------------------------- update critic ---------------------------- #\n",
    "            # Get predicted next-state actions and Q values from target models\n",
    "            actions_next = actor_target(next_states)\n",
    "            Q_targets_next = critic_target(next_states, actions_next)\n",
    "            # Compute Q targets for current states (y_i)\n",
    "            Q_targets = rewards + (GAMMA * Q_targets_next * (1 - dones))\n",
    "            # Compute critic loss\n",
    "            Q_expected = critic_local(states, actions)\n",
    "            critic_loss = F.mse_loss(Q_expected, Q_targets)\n",
    "            # Minimize the loss\n",
    "            critic_optimizer.zero_grad()\n",
    "            critic_loss.backward()\n",
    "            U.clip_grad_norm_(critic_local.parameters(), 1)\n",
    "            critic_optimizer.step()\n",
    "\n",
    "\n",
    "            # ---------------------------- update actor ---------------------------- #\n",
    "            # Compute actor loss\n",
    "            actions_pred = actor_local(states)\n",
    "            actor_loss = -critic_local(states, actions_pred).mean()\n",
    "            # Minimize the loss\n",
    "            actor_optimizer.zero_grad()\n",
    "            actor_loss.backward()\n",
    "            actor_optimizer.step()\n",
    "\n",
    "            # ----------------------- update target networks ----------------------- #\n",
    "            update_targets(critic_local, critic_target, TAU)\n",
    "            update_targets(actor_local, actor_target, TAU) "
   ]
  },
  {
   "cell_type": "markdown",
   "metadata": {},
   "source": [
    "### 6. Main Function - Define Training \n",
    "\n",
    "Or go straight to step 8 to test agent loaded with previuous trained weights (in its Neural Network)"
   ]
  },
  {
   "cell_type": "code",
   "execution_count": 22,
   "metadata": {},
   "outputs": [],
   "source": [
    "def ddpg(n_episodes=500, max_t=1000, solved_score=30.0, consec_episodes=100, print_every=1, old_episodes=0, old_mov_avg=0.0):\n",
    "    \n",
    "    mean_scores = []                               # list of mean scores from each episode\n",
    "    min_scores = []                                # list of lowest scores from each episode\n",
    "    max_scores = []                                # list of highest scores from each episode\n",
    "    best_score = -np.inf\n",
    "    scores_deque = deque(maxlen=consec_episodes)   # mean scores from most recent episodes\n",
    "    moving_avgs = []                               # list of moving averages    \n",
    "    \n",
    "    for i_episode in range(1, n_episodes+1):\n",
    "        #reset the environment, noise and score\n",
    "        env_info = env.reset(train_mode=True)[brain_name] # reset the environment\n",
    "        states = env_info.vector_observations             # get current state for each agent\n",
    "        noise.reset()                                     # reset the noise\n",
    "        scores = np.zeros(num_agents)                     # initialize scores for each agent\n",
    "        start_time = time.time()\n",
    "        \n",
    "        for t in range(max_t):\n",
    "            actions = agent(states, add_noise=True)       # select actions with exploration\n",
    "            env_info = env.step(actions)[brain_name]      # send actions to the environment\n",
    "            next_states = env_info.vector_observations    # get next states\n",
    "            rewards = env_info.rewards                    # get the rewards \n",
    "            dones = env_info.local_done\n",
    "            \n",
    "            # save experience to replay buffer, perform learning step at defined interval\n",
    "            for state, action, reward, next_state, done in zip(states, actions, rewards, next_states, dones):            \n",
    "                train_agent(state, action, reward, next_state, done, t) # train Actor and Crtic Neural Network\n",
    "            \n",
    "            states = next_states\n",
    "            \n",
    "            scores += rewards                             # add rewards to current scores \n",
    " \n",
    "            if np.any(dones):            # exit loop when episode ends\n",
    "                break     \n",
    "        \n",
    "        duration = time.time() - start_time\n",
    "        min_scores.append(np.min(scores))             # save lowest score for a single agent\n",
    "        max_scores.append(np.max(scores))             # save highest score for a single agent        \n",
    "        mean_scores.append(np.mean(scores))           # save mean score for the episode\n",
    "        scores_deque.append(mean_scores[-1])          # save mean score to deque\n",
    "        moving_avgs.append(np.mean(scores_deque))     # save moving average     \n",
    "        \n",
    "        if i_episode % print_every == 0:\n",
    "            print('\\rEpisode {} ({} sec)  -- \\tMin: {:.1f}\\tMax: {:.1f}\\tMean: {:.1f}\\tMov. Avg: {:.1f}'.format(\\\n",
    "                  i_episode, round(duration), min_scores[-1], max_scores[-1], mean_scores[-1], moving_avgs[-1])) \n",
    "            \n",
    "        if mean_scores[-1] > best_score:\n",
    "            torch.save(actor_local.state_dict(), 'checkpoint_actor.pth')\n",
    "            torch.save(critic_local.state_dict(), 'checkpoint_critic.pth')  \n",
    "         \n",
    "        real_episode = i_episode + old_episodes\n",
    "        real_moving_avgs = (moving_avgs[-1]*i_episode + old_mov_avg*old_episodes)/real_episode\n",
    "        \n",
    "        if i_episode % (print_every + 3) == 0:\n",
    "            print('\\rIncluding Previous Runs -- Total Episodes {}  -- \\tReal Mov. Avg: {:.1f}'.format(\\\n",
    "                  real_episode, real_moving_avgs)) \n",
    "        \n",
    "        if real_moving_avgs >= solved_score and real_episode >= consec_episodes:\n",
    "            print('\\nEnvironment SOLVED in {} episodes!\\tMoving Average ={:.1f} over last {} episodes'.format(\\\n",
    "                                    real_episode-consec_episodes, real_moving_avgs, consec_episodes))    \n",
    "            torch.save(actor_local.state_dict(), 'checkpoint_actor.pth')\n",
    "            torch.save(critic_local.state_dict(), 'checkpoint_critic.pth')\n",
    "            break\n",
    "\n",
    "            \n",
    "    return mean_scores, moving_avgs"
   ]
  },
  {
   "cell_type": "markdown",
   "metadata": {},
   "source": [
    "### 7. Start Training (Optional) - 1st Run\n",
    "### (Skip to step 8 to test the environment with trained agent)"
   ]
  },
  {
   "cell_type": "code",
   "execution_count": null,
   "metadata": {
    "scrolled": false
   },
   "outputs": [
    {
     "name": "stdout",
     "output_type": "stream",
     "text": [
      "Episode 1 (115 sec)  -- \tMin: 0.4\tMax: 5.0\tMean: 2.0\tMov. Avg: 2.0\n",
      "Episode 2 (115 sec)  -- \tMin: 0.3\tMax: 4.1\tMean: 2.3\tMov. Avg: 2.2\n",
      "Episode 3 (116 sec)  -- \tMin: 1.5\tMax: 5.2\tMean: 3.5\tMov. Avg: 2.6\n",
      "Episode 4 (118 sec)  -- \tMin: 2.0\tMax: 6.5\tMean: 4.1\tMov. Avg: 3.0\n",
      "Episode 5 (118 sec)  -- \tMin: 2.0\tMax: 5.7\tMean: 3.7\tMov. Avg: 3.1\n",
      "Episode 6 (119 sec)  -- \tMin: 2.4\tMax: 5.9\tMean: 4.2\tMov. Avg: 3.3\n",
      "Episode 7 (120 sec)  -- \tMin: 3.2\tMax: 13.0\tMean: 5.7\tMov. Avg: 3.7\n",
      "Episode 8 (121 sec)  -- \tMin: 5.1\tMax: 9.5\tMean: 7.3\tMov. Avg: 4.1\n",
      "Episode 9 (121 sec)  -- \tMin: 4.7\tMax: 11.4\tMean: 8.1\tMov. Avg: 4.6\n",
      "Episode 10 (119 sec)  -- \tMin: 4.1\tMax: 11.1\tMean: 8.2\tMov. Avg: 4.9\n",
      "Episode 11 (121 sec)  -- \tMin: 5.9\tMax: 13.1\tMean: 8.9\tMov. Avg: 5.3\n",
      "Episode 12 (122 sec)  -- \tMin: 6.6\tMax: 16.7\tMean: 11.0\tMov. Avg: 5.8\n",
      "Episode 13 (124 sec)  -- \tMin: 9.2\tMax: 14.5\tMean: 11.8\tMov. Avg: 6.2\n",
      "Episode 14 (126 sec)  -- \tMin: 8.3\tMax: 15.8\tMean: 12.9\tMov. Avg: 6.7\n",
      "Episode 15 (127 sec)  -- \tMin: 7.7\tMax: 15.6\tMean: 11.8\tMov. Avg: 7.0\n",
      "Episode 16 (130 sec)  -- \tMin: 7.5\tMax: 16.3\tMean: 12.0\tMov. Avg: 7.3\n",
      "Episode 17 (132 sec)  -- \tMin: 8.2\tMax: 15.6\tMean: 12.2\tMov. Avg: 7.6\n",
      "Episode 18 (134 sec)  -- \tMin: 8.9\tMax: 16.3\tMean: 13.4\tMov. Avg: 8.0\n",
      "Episode 19 (135 sec)  -- \tMin: 10.2\tMax: 19.8\tMean: 14.5\tMov. Avg: 8.3\n",
      "Episode 20 (139 sec)  -- \tMin: 10.3\tMax: 20.2\tMean: 15.1\tMov. Avg: 8.6\n",
      "Episode 21 (142 sec)  -- \tMin: 11.3\tMax: 19.7\tMean: 14.4\tMov. Avg: 8.9\n",
      "Episode 22 (144 sec)  -- \tMin: 11.1\tMax: 19.3\tMean: 16.1\tMov. Avg: 9.2\n",
      "Episode 23 (144 sec)  -- \tMin: 13.6\tMax: 17.9\tMean: 15.5\tMov. Avg: 9.5\n",
      "Episode 24 (148 sec)  -- \tMin: 12.7\tMax: 22.0\tMean: 16.6\tMov. Avg: 9.8\n",
      "Episode 25 (154 sec)  -- \tMin: 8.2\tMax: 20.4\tMean: 16.3\tMov. Avg: 10.1\n",
      "Episode 26 (156 sec)  -- \tMin: 12.9\tMax: 25.5\tMean: 17.0\tMov. Avg: 10.3\n",
      "Episode 27 (158 sec)  -- \tMin: 13.7\tMax: 23.7\tMean: 18.0\tMov. Avg: 10.6\n",
      "Episode 28 (159 sec)  -- \tMin: 12.5\tMax: 20.1\tMean: 18.2\tMov. Avg: 10.9\n",
      "Episode 29 (160 sec)  -- \tMin: 12.3\tMax: 23.5\tMean: 19.3\tMov. Avg: 11.2\n",
      "Episode 30 (165 sec)  -- \tMin: 15.5\tMax: 26.9\tMean: 20.1\tMov. Avg: 11.5\n",
      "Episode 31 (164 sec)  -- \tMin: 10.1\tMax: 30.2\tMean: 18.9\tMov. Avg: 11.7\n",
      "Episode 32 (165 sec)  -- \tMin: 17.1\tMax: 27.0\tMean: 21.3\tMov. Avg: 12.0\n",
      "Episode 33 (171 sec)  -- \tMin: 16.3\tMax: 25.7\tMean: 21.3\tMov. Avg: 12.3\n",
      "Episode 34 (175 sec)  -- \tMin: 15.5\tMax: 28.1\tMean: 20.8\tMov. Avg: 12.5\n",
      "Episode 35 (173 sec)  -- \tMin: 16.8\tMax: 25.3\tMean: 21.6\tMov. Avg: 12.8\n",
      "Episode 36 (175 sec)  -- \tMin: 19.9\tMax: 24.8\tMean: 22.0\tMov. Avg: 13.1\n",
      "Episode 37 (177 sec)  -- \tMin: 19.6\tMax: 27.3\tMean: 22.4\tMov. Avg: 13.3\n",
      "Episode 38 (179 sec)  -- \tMin: 16.4\tMax: 27.3\tMean: 22.2\tMov. Avg: 13.5\n",
      "Episode 39 (182 sec)  -- \tMin: 18.5\tMax: 24.1\tMean: 21.5\tMov. Avg: 13.7\n",
      "Episode 40 (184 sec)  -- \tMin: 19.3\tMax: 25.9\tMean: 22.2\tMov. Avg: 14.0\n",
      "Episode 41 (189 sec)  -- \tMin: 15.5\tMax: 26.1\tMean: 21.1\tMov. Avg: 14.1\n",
      "Episode 42 (195 sec)  -- \tMin: 15.5\tMax: 28.9\tMean: 20.7\tMov. Avg: 14.3\n",
      "Episode 43 (193 sec)  -- \tMin: 17.2\tMax: 25.7\tMean: 22.2\tMov. Avg: 14.5\n",
      "Episode 44 (199 sec)  -- \tMin: 16.7\tMax: 29.3\tMean: 21.8\tMov. Avg: 14.6\n",
      "Episode 45 (203 sec)  -- \tMin: 18.3\tMax: 29.3\tMean: 23.0\tMov. Avg: 14.8\n",
      "Episode 46 (206 sec)  -- \tMin: 17.2\tMax: 27.5\tMean: 22.8\tMov. Avg: 15.0\n",
      "Episode 47 (209 sec)  -- \tMin: 17.0\tMax: 26.0\tMean: 21.0\tMov. Avg: 15.1\n",
      "Episode 48 (208 sec)  -- \tMin: 18.9\tMax: 27.2\tMean: 21.6\tMov. Avg: 15.3\n",
      "Episode 49 (205 sec)  -- \tMin: 17.9\tMax: 30.1\tMean: 23.2\tMov. Avg: 15.4\n",
      "Episode 50 (212 sec)  -- \tMin: 18.7\tMax: 31.3\tMean: 22.9\tMov. Avg: 15.6\n",
      "Episode 51 (210 sec)  -- \tMin: 17.2\tMax: 33.4\tMean: 22.7\tMov. Avg: 15.7\n",
      "Episode 52 (212 sec)  -- \tMin: 18.1\tMax: 25.8\tMean: 22.4\tMov. Avg: 15.8\n",
      "Episode 53 (214 sec)  -- \tMin: 20.1\tMax: 29.5\tMean: 23.7\tMov. Avg: 16.0\n",
      "Episode 54 (215 sec)  -- \tMin: 21.2\tMax: 29.5\tMean: 25.6\tMov. Avg: 16.2\n",
      "Episode 55 (215 sec)  -- \tMin: 23.2\tMax: 38.2\tMean: 28.9\tMov. Avg: 16.4\n",
      "Episode 56 (213 sec)  -- \tMin: 22.0\tMax: 31.1\tMean: 26.2\tMov. Avg: 16.6\n",
      "Episode 57 (210 sec)  -- \tMin: 21.4\tMax: 30.1\tMean: 27.5\tMov. Avg: 16.8\n",
      "Episode 58 (212 sec)  -- \tMin: 21.6\tMax: 32.6\tMean: 26.8\tMov. Avg: 16.9\n",
      "Episode 59 (214 sec)  -- \tMin: 26.6\tMax: 34.7\tMean: 30.2\tMov. Avg: 17.2\n",
      "Episode 60 (215 sec)  -- \tMin: 23.5\tMax: 33.7\tMean: 29.0\tMov. Avg: 17.4\n",
      "Episode 61 (216 sec)  -- \tMin: 21.8\tMax: 32.2\tMean: 28.0\tMov. Avg: 17.5\n",
      "Episode 62 (211 sec)  -- \tMin: 22.7\tMax: 33.7\tMean: 28.6\tMov. Avg: 17.7\n",
      "Episode 63 (215 sec)  -- \tMin: 21.1\tMax: 34.3\tMean: 28.9\tMov. Avg: 17.9\n",
      "Episode 64 (214 sec)  -- \tMin: 26.1\tMax: 35.7\tMean: 29.7\tMov. Avg: 18.1\n",
      "Episode 65 (214 sec)  -- \tMin: 26.9\tMax: 34.1\tMean: 31.1\tMov. Avg: 18.3\n",
      "Episode 66 (209 sec)  -- \tMin: 28.0\tMax: 35.3\tMean: 32.7\tMov. Avg: 18.5\n",
      "Episode 67 (213 sec)  -- \tMin: 22.6\tMax: 35.7\tMean: 30.6\tMov. Avg: 18.7\n",
      "Episode 68 (215 sec)  -- \tMin: 11.3\tMax: 35.9\tMean: 28.2\tMov. Avg: 18.8\n",
      "Episode 69 (211 sec)  -- \tMin: 24.3\tMax: 33.4\tMean: 29.8\tMov. Avg: 19.0\n",
      "Episode 70 (215 sec)  -- \tMin: 23.3\tMax: 34.6\tMean: 30.8\tMov. Avg: 19.1\n",
      "Episode 71 (215 sec)  -- \tMin: 21.3\tMax: 36.5\tMean: 32.6\tMov. Avg: 19.3\n",
      "Episode 72 (215 sec)  -- \tMin: 23.7\tMax: 34.6\tMean: 31.2\tMov. Avg: 19.5\n",
      "Episode 73 (216 sec)  -- \tMin: 26.0\tMax: 35.7\tMean: 33.1\tMov. Avg: 19.7\n",
      "Episode 74 (215 sec)  -- \tMin: 27.9\tMax: 36.4\tMean: 32.5\tMov. Avg: 19.9\n",
      "Episode 75 (215 sec)  -- \tMin: 26.8\tMax: 36.2\tMean: 30.9\tMov. Avg: 20.0\n",
      "Episode 76 (214 sec)  -- \tMin: 11.6\tMax: 39.0\tMean: 29.5\tMov. Avg: 20.1\n",
      "Episode 77 (215 sec)  -- \tMin: 20.5\tMax: 39.3\tMean: 31.7\tMov. Avg: 20.3\n"
     ]
    }
   ],
   "source": [
    "# run the training loop\n",
    "scores, avgs = ddpg()"
   ]
  },
  {
   "cell_type": "markdown",
   "metadata": {},
   "source": [
    "### 7. Continue Training (Optional) - 2nd Run\n",
    "### (Skip to step 8 to test the environment with trained agent)"
   ]
  },
  {
   "cell_type": "code",
   "execution_count": null,
   "metadata": {
    "scrolled": false
   },
   "outputs": [
    {
     "name": "stdout",
     "output_type": "stream",
     "text": [
      "Episode 1 (111 sec)  -- \tMin: 10.3\tMax: 29.7\tMean: 16.4\tMov. Avg: 16.4\n",
      "Episode 2 (115 sec)  -- \tMin: 10.0\tMax: 25.3\tMean: 19.9\tMov. Avg: 18.1\n",
      "Episode 3 (115 sec)  -- \tMin: 15.4\tMax: 32.9\tMean: 26.9\tMov. Avg: 21.1\n",
      "Episode 4 (117 sec)  -- \tMin: 22.1\tMax: 37.2\tMean: 31.5\tMov. Avg: 23.7\n",
      "Episode 5 (117 sec)  -- \tMin: 29.6\tMax: 39.3\tMean: 34.8\tMov. Avg: 25.9\n",
      "Episode 7 (119 sec)  -- \tMin: 31.8\tMax: 39.0\tMean: 35.7\tMov. Avg: 28.6\n",
      "Episode 8 (120 sec)  -- \tMin: 29.8\tMax: 39.5\tMean: 35.2\tMov. Avg: 29.4\n",
      "Episode 9 (121 sec)  -- \tMin: 33.9\tMax: 38.6\tMean: 37.1\tMov. Avg: 30.3\n",
      "Episode 10 (121 sec)  -- \tMin: 33.5\tMax: 39.2\tMean: 37.5\tMov. Avg: 31.0\n",
      "Episode 11 (123 sec)  -- \tMin: 32.0\tMax: 38.9\tMean: 36.5\tMov. Avg: 31.5\n",
      "Episode 12 (124 sec)  -- \tMin: 32.4\tMax: 39.0\tMean: 36.2\tMov. Avg: 31.9\n",
      "Episode 13 (126 sec)  -- \tMin: 32.7\tMax: 39.4\tMean: 36.2\tMov. Avg: 32.2\n",
      "Episode 14 (127 sec)  -- \tMin: 34.7\tMax: 39.3\tMean: 37.7\tMov. Avg: 32.6\n",
      "Episode 15 (129 sec)  -- \tMin: 32.4\tMax: 39.5\tMean: 37.2\tMov. Avg: 32.9\n",
      "Episode 16 (131 sec)  -- \tMin: 31.2\tMax: 38.3\tMean: 35.8\tMov. Avg: 33.1\n",
      "Episode 17 (133 sec)  -- \tMin: 32.7\tMax: 39.1\tMean: 37.2\tMov. Avg: 33.4\n",
      "Episode 18 (135 sec)  -- \tMin: 32.3\tMax: 39.3\tMean: 37.7\tMov. Avg: 33.6\n",
      "Episode 19 (137 sec)  -- \tMin: 32.5\tMax: 39.5\tMean: 36.4\tMov. Avg: 33.7\n",
      "Episode 20 (139 sec)  -- \tMin: 30.0\tMax: 39.6\tMean: 36.6\tMov. Avg: 33.9\n",
      "Episode 21 (141 sec)  -- \tMin: 34.0\tMax: 39.4\tMean: 37.0\tMov. Avg: 34.0\n",
      "Episode 22 (143 sec)  -- \tMin: 32.9\tMax: 39.3\tMean: 37.6\tMov. Avg: 34.2\n",
      "Episode 23 (147 sec)  -- \tMin: 36.1\tMax: 39.3\tMean: 37.9\tMov. Avg: 34.4\n",
      "Episode 24 (149 sec)  -- \tMin: 32.8\tMax: 39.2\tMean: 37.7\tMov. Avg: 34.5\n",
      "Episode 25 (152 sec)  -- \tMin: 37.0\tMax: 39.6\tMean: 38.5\tMov. Avg: 34.7\n",
      "Episode 26 (153 sec)  -- \tMin: 34.3\tMax: 39.5\tMean: 38.0\tMov. Avg: 34.8\n",
      "Episode 27 (156 sec)  -- \tMin: 33.8\tMax: 39.0\tMean: 37.9\tMov. Avg: 34.9\n",
      "Episode 28 (159 sec)  -- \tMin: 35.5\tMax: 39.4\tMean: 37.9\tMov. Avg: 35.0\n",
      "Episode 29 (161 sec)  -- \tMin: 35.7\tMax: 39.5\tMean: 38.2\tMov. Avg: 35.1\n",
      "Episode 31 (166 sec)  -- \tMin: 35.0\tMax: 39.6\tMean: 37.8\tMov. Avg: 35.3\n",
      "Episode 32 (169 sec)  -- \tMin: 31.5\tMax: 38.5\tMean: 36.2\tMov. Avg: 35.3\n",
      "Episode 33 (172 sec)  -- \tMin: 35.8\tMax: 39.5\tMean: 38.3\tMov. Avg: 35.4\n",
      "Episode 34 (174 sec)  -- \tMin: 26.4\tMax: 39.4\tMean: 37.3\tMov. Avg: 35.4\n",
      "Episode 35 (177 sec)  -- \tMin: 36.3\tMax: 39.5\tMean: 38.0\tMov. Avg: 35.5\n",
      "Episode 36 (179 sec)  -- \tMin: 36.4\tMax: 39.5\tMean: 38.6\tMov. Avg: 35.6\n",
      "Episode 37 (182 sec)  -- \tMin: 35.5\tMax: 39.5\tMean: 37.7\tMov. Avg: 35.7\n",
      "Episode 38 (184 sec)  -- \tMin: 36.4\tMax: 39.5\tMean: 38.6\tMov. Avg: 35.7\n",
      "Episode 39 (186 sec)  -- \tMin: 34.4\tMax: 39.6\tMean: 37.9\tMov. Avg: 35.8\n",
      "Episode 40 (190 sec)  -- \tMin: 34.8\tMax: 39.3\tMean: 38.1\tMov. Avg: 35.9\n",
      "Episode 41 (193 sec)  -- \tMin: 31.2\tMax: 39.4\tMean: 36.6\tMov. Avg: 35.9\n",
      "Episode 42 (196 sec)  -- \tMin: 26.1\tMax: 38.6\tMean: 35.6\tMov. Avg: 35.9\n",
      "Episode 43 (199 sec)  -- \tMin: 34.8\tMax: 39.5\tMean: 38.2\tMov. Avg: 35.9\n",
      "Episode 44 (203 sec)  -- \tMin: 23.6\tMax: 39.6\tMean: 34.5\tMov. Avg: 35.9\n",
      "Episode 45 (203 sec)  -- \tMin: 33.5\tMax: 39.6\tMean: 37.5\tMov. Avg: 35.9\n"
     ]
    }
   ],
   "source": [
    "# run the training loop with the saved weights from the previous run\n",
    "actor_local.load_state_dict(torch.load('checkpoint_actor.pth'))\n",
    "critic_local.load_state_dict(torch.load('checkpoint_critic.pth'))\n",
    "update_targets(critic_local, critic_target)\n",
    "update_targets(actor_local, actor_target)    \n",
    "scores, avgs = ddpg()"
   ]
  },
  {
   "cell_type": "markdown",
   "metadata": {},
   "source": [
    "### 7. Continue Training (Optional) - 3rd Run\n",
    "### (Skip to step 8 to test the environment with trained agent)"
   ]
  },
  {
   "cell_type": "code",
   "execution_count": null,
   "metadata": {
    "scrolled": false
   },
   "outputs": [
    {
     "name": "stdout",
     "output_type": "stream",
     "text": [
      "Episode 1 (113 sec)  -- \tMin: 15.5\tMax: 34.3\tMean: 23.9\tMov. Avg: 23.9\n",
      "Episode 2 (116 sec)  -- \tMin: 17.0\tMax: 33.6\tMean: 26.1\tMov. Avg: 25.0\n",
      "Episode 3 (117 sec)  -- \tMin: 28.1\tMax: 35.0\tMean: 31.5\tMov. Avg: 27.2\n",
      "Episode 4 (118 sec)  -- \tMin: 24.7\tMax: 38.3\tMean: 31.7\tMov. Avg: 28.3\n",
      "Episode 6 (119 sec)  -- \tMin: 28.6\tMax: 38.2\tMean: 35.7\tMov. Avg: 30.6\n",
      "Episode 7 (121 sec)  -- \tMin: 26.0\tMax: 38.1\tMean: 34.7\tMov. Avg: 31.2\n",
      "Episode 8 (122 sec)  -- \tMin: 25.7\tMax: 37.6\tMean: 34.2\tMov. Avg: 31.6\n",
      "Episode 9 (123 sec)  -- \tMin: 28.9\tMax: 38.1\tMean: 34.2\tMov. Avg: 31.9\n",
      "Episode 10 (124 sec)  -- \tMin: 30.3\tMax: 38.5\tMean: 35.7\tMov. Avg: 32.2\n",
      "Episode 11 (125 sec)  -- \tMin: 22.9\tMax: 36.7\tMean: 31.7\tMov. Avg: 32.2\n",
      "Episode 12 (127 sec)  -- \tMin: 21.7\tMax: 39.3\tMean: 34.0\tMov. Avg: 32.3\n",
      "Episode 13 (128 sec)  -- \tMin: 20.1\tMax: 37.1\tMean: 32.0\tMov. Avg: 32.3\n",
      "Episode 14 (129 sec)  -- \tMin: 23.7\tMax: 39.4\tMean: 35.4\tMov. Avg: 32.5\n",
      "Episode 15 (131 sec)  -- \tMin: 29.0\tMax: 38.3\tMean: 35.6\tMov. Avg: 32.7\n",
      "Episode 16 (132 sec)  -- \tMin: 17.3\tMax: 38.6\tMean: 31.5\tMov. Avg: 32.7\n",
      "Episode 17 (136 sec)  -- \tMin: 31.7\tMax: 38.5\tMean: 35.3\tMov. Avg: 32.8\n",
      "Episode 18 (138 sec)  -- \tMin: 27.0\tMax: 38.0\tMean: 33.4\tMov. Avg: 32.8\n",
      "Episode 19 (141 sec)  -- \tMin: 31.9\tMax: 38.6\tMean: 35.1\tMov. Avg: 33.0\n",
      "Episode 20 (142 sec)  -- \tMin: 26.7\tMax: 37.5\tMean: 33.9\tMov. Avg: 33.0\n",
      "Episode 21 (145 sec)  -- \tMin: 20.5\tMax: 38.0\tMean: 31.1\tMov. Avg: 32.9\n",
      "Episode 22 (147 sec)  -- \tMin: 30.4\tMax: 37.8\tMean: 34.0\tMov. Avg: 33.0\n",
      "Episode 23 (149 sec)  -- \tMin: 26.8\tMax: 38.7\tMean: 34.1\tMov. Avg: 33.0\n",
      "Episode 24 (151 sec)  -- \tMin: 24.9\tMax: 36.6\tMean: 32.3\tMov. Avg: 33.0\n",
      "Episode 25 (154 sec)  -- \tMin: 24.1\tMax: 37.2\tMean: 31.6\tMov. Avg: 32.9\n",
      "Episode 26 (157 sec)  -- \tMin: 24.5\tMax: 38.0\tMean: 33.6\tMov. Avg: 33.0\n",
      "Episode 27 (159 sec)  -- \tMin: 26.2\tMax: 39.3\tMean: 32.9\tMov. Avg: 33.0\n",
      "Episode 28 (162 sec)  -- \tMin: 22.6\tMax: 38.6\tMean: 32.6\tMov. Avg: 32.9\n",
      "Episode 29 (165 sec)  -- \tMin: 17.3\tMax: 38.2\tMean: 32.8\tMov. Avg: 32.9\n",
      "Episode 30 (167 sec)  -- \tMin: 30.7\tMax: 39.4\tMean: 36.6\tMov. Avg: 33.1\n",
      "Episode 31 (170 sec)  -- \tMin: 32.7\tMax: 39.5\tMean: 36.2\tMov. Avg: 33.2\n",
      "Episode 32 (172 sec)  -- \tMin: 30.8\tMax: 39.0\tMean: 34.4\tMov. Avg: 33.2\n"
     ]
    }
   ],
   "source": [
    "# run the training loop with the saved weights from the previous run\n",
    "actor_local.load_state_dict(torch.load('checkpoint_actor.pth'))\n",
    "critic_local.load_state_dict(torch.load('checkpoint_critic.pth'))\n",
    "update_targets(critic_local, critic_target)\n",
    "update_targets(actor_local, actor_target)    \n",
    "scores, avgs = ddpg(500, 1000, 30.0, 100, 1, 77+45, (77*20.3 + 45*35.9)/(77 + 45))"
   ]
  },
  {
   "cell_type": "markdown",
   "metadata": {},
   "source": [
    "### 7. Continue Training (Optional) - 4th Run\n",
    "### (Skip to step 8 to test the environment with trained agent)"
   ]
  },
  {
   "cell_type": "code",
   "execution_count": 21,
   "metadata": {
    "scrolled": false
   },
   "outputs": [
    {
     "name": "stdout",
     "output_type": "stream",
     "text": [
      "Episode 1 (115 sec)  -- \tMin: 12.7\tMax: 30.4\tMean: 20.8\tMov. Avg: 20.8\n",
      "Episode 2 (118 sec)  -- \tMin: 14.6\tMax: 34.4\tMean: 26.4\tMov. Avg: 23.6\n",
      "Episode 3 (119 sec)  -- \tMin: 17.0\tMax: 32.7\tMean: 25.4\tMov. Avg: 24.2\n",
      "Episode 4 (120 sec)  -- \tMin: 14.3\tMax: 37.3\tMean: 25.2\tMov. Avg: 24.4\n",
      "Including Previous Runs -- Total Episodes 158  -- \tReal Mov. Avg: 27.5\n",
      "Episode 5 (120 sec)  -- \tMin: 25.7\tMax: 38.5\tMean: 32.5\tMov. Avg: 26.0\n",
      "Episode 6 (122 sec)  -- \tMin: 21.4\tMax: 39.3\tMean: 33.6\tMov. Avg: 27.3\n",
      "Episode 7 (123 sec)  -- \tMin: 13.6\tMax: 38.6\tMean: 30.6\tMov. Avg: 27.8\n",
      "Episode 8 (123 sec)  -- \tMin: 21.2\tMax: 39.4\tMean: 32.7\tMov. Avg: 28.4\n",
      "Including Previous Runs -- Total Episodes 162  -- \tReal Mov. Avg: 27.6\n",
      "Episode 9 (125 sec)  -- \tMin: 22.0\tMax: 38.0\tMean: 32.2\tMov. Avg: 28.8\n",
      "Episode 10 (126 sec)  -- \tMin: 20.4\tMax: 37.8\tMean: 33.6\tMov. Avg: 29.3\n",
      "Episode 11 (127 sec)  -- \tMin: 19.0\tMax: 38.4\tMean: 34.6\tMov. Avg: 29.8\n",
      "Episode 12 (129 sec)  -- \tMin: 22.2\tMax: 39.1\tMean: 34.4\tMov. Avg: 30.2\n",
      "Including Previous Runs -- Total Episodes 166  -- \tReal Mov. Avg: 27.7\n",
      "Episode 13 (130 sec)  -- \tMin: 27.2\tMax: 38.5\tMean: 35.0\tMov. Avg: 30.5\n",
      "Episode 14 (132 sec)  -- \tMin: 28.5\tMax: 39.1\tMean: 34.8\tMov. Avg: 30.8\n",
      "Episode 15 (133 sec)  -- \tMin: 22.8\tMax: 37.4\tMean: 32.3\tMov. Avg: 30.9\n",
      "Episode 16 (135 sec)  -- \tMin: 5.5\tMax: 38.0\tMean: 32.8\tMov. Avg: 31.1\n",
      "Including Previous Runs -- Total Episodes 170  -- \tReal Mov. Avg: 27.9\n",
      "Episode 17 (137 sec)  -- \tMin: 19.2\tMax: 38.3\tMean: 35.7\tMov. Avg: 31.3\n",
      "Episode 18 (139 sec)  -- \tMin: 19.8\tMax: 38.2\tMean: 33.4\tMov. Avg: 31.4\n",
      "Episode 19 (141 sec)  -- \tMin: 8.1\tMax: 39.1\tMean: 31.4\tMov. Avg: 31.4\n",
      "Episode 20 (143 sec)  -- \tMin: 25.7\tMax: 38.8\tMean: 34.2\tMov. Avg: 31.6\n",
      "Including Previous Runs -- Total Episodes 174  -- \tReal Mov. Avg: 28.0\n",
      "Episode 21 (146 sec)  -- \tMin: 22.1\tMax: 39.2\tMean: 34.5\tMov. Avg: 31.7\n",
      "Episode 22 (148 sec)  -- \tMin: 24.6\tMax: 38.7\tMean: 32.4\tMov. Avg: 31.7\n",
      "Episode 23 (150 sec)  -- \tMin: 23.7\tMax: 38.8\tMean: 35.0\tMov. Avg: 31.9\n",
      "Episode 24 (153 sec)  -- \tMin: 34.7\tMax: 39.0\tMean: 37.1\tMov. Avg: 32.1\n",
      "Including Previous Runs -- Total Episodes 178  -- \tReal Mov. Avg: 28.2\n",
      "Episode 25 (155 sec)  -- \tMin: 28.7\tMax: 39.5\tMean: 36.5\tMov. Avg: 32.3\n",
      "Episode 26 (158 sec)  -- \tMin: 25.4\tMax: 39.2\tMean: 34.6\tMov. Avg: 32.4\n",
      "Episode 27 (160 sec)  -- \tMin: 29.9\tMax: 38.8\tMean: 35.0\tMov. Avg: 32.5\n",
      "Episode 28 (162 sec)  -- \tMin: 21.7\tMax: 38.5\tMean: 32.1\tMov. Avg: 32.5\n",
      "Including Previous Runs -- Total Episodes 182  -- \tReal Mov. Avg: 28.3\n",
      "Episode 29 (166 sec)  -- \tMin: 26.9\tMax: 38.0\tMean: 33.7\tMov. Avg: 32.5\n",
      "Episode 30 (168 sec)  -- \tMin: 23.2\tMax: 38.3\tMean: 34.1\tMov. Avg: 32.6\n",
      "Episode 31 (170 sec)  -- \tMin: 26.7\tMax: 38.2\tMean: 33.8\tMov. Avg: 32.6\n",
      "Episode 32 (172 sec)  -- \tMin: 29.7\tMax: 39.3\tMean: 34.6\tMov. Avg: 32.7\n",
      "Including Previous Runs -- Total Episodes 186  -- \tReal Mov. Avg: 28.4\n",
      "Episode 33 (175 sec)  -- \tMin: 27.5\tMax: 38.2\tMean: 34.8\tMov. Avg: 32.7\n",
      "Episode 34 (178 sec)  -- \tMin: 21.0\tMax: 39.4\tMean: 32.8\tMov. Avg: 32.7\n",
      "Episode 35 (180 sec)  -- \tMin: 27.6\tMax: 38.4\tMean: 33.6\tMov. Avg: 32.7\n",
      "Episode 36 (183 sec)  -- \tMin: 30.2\tMax: 38.7\tMean: 35.3\tMov. Avg: 32.8\n",
      "Including Previous Runs -- Total Episodes 190  -- \tReal Mov. Avg: 28.5\n",
      "Episode 37 (185 sec)  -- \tMin: 24.9\tMax: 39.6\tMean: 34.6\tMov. Avg: 32.9\n",
      "Episode 38 (188 sec)  -- \tMin: 31.1\tMax: 39.3\tMean: 36.8\tMov. Avg: 33.0\n",
      "Episode 39 (190 sec)  -- \tMin: 27.8\tMax: 37.5\tMean: 34.4\tMov. Avg: 33.0\n",
      "Episode 40 (193 sec)  -- \tMin: 26.9\tMax: 37.9\tMean: 33.3\tMov. Avg: 33.0\n",
      "Including Previous Runs -- Total Episodes 194  -- \tReal Mov. Avg: 28.7\n",
      "Episode 41 (196 sec)  -- \tMin: 16.5\tMax: 38.2\tMean: 33.0\tMov. Avg: 33.0\n",
      "Episode 42 (198 sec)  -- \tMin: 30.5\tMax: 39.0\tMean: 36.2\tMov. Avg: 33.1\n",
      "Episode 43 (201 sec)  -- \tMin: 32.1\tMax: 39.4\tMean: 35.9\tMov. Avg: 33.2\n",
      "Episode 44 (203 sec)  -- \tMin: 21.9\tMax: 39.6\tMean: 33.5\tMov. Avg: 33.2\n",
      "Including Previous Runs -- Total Episodes 198  -- \tReal Mov. Avg: 28.8\n",
      "Episode 45 (205 sec)  -- \tMin: 32.3\tMax: 39.6\tMean: 36.9\tMov. Avg: 33.2\n",
      "Episode 46 (208 sec)  -- \tMin: 32.6\tMax: 37.8\tMean: 35.6\tMov. Avg: 33.3\n",
      "Episode 47 (210 sec)  -- \tMin: 27.3\tMax: 39.4\tMean: 34.2\tMov. Avg: 33.3\n",
      "Episode 48 (212 sec)  -- \tMin: 30.9\tMax: 38.3\tMean: 35.1\tMov. Avg: 33.4\n",
      "Including Previous Runs -- Total Episodes 202  -- \tReal Mov. Avg: 28.9\n",
      "Episode 49 (215 sec)  -- \tMin: 31.3\tMax: 39.4\tMean: 36.2\tMov. Avg: 33.4\n",
      "Episode 50 (216 sec)  -- \tMin: 30.2\tMax: 39.0\tMean: 35.5\tMov. Avg: 33.5\n",
      "Episode 51 (218 sec)  -- \tMin: 30.8\tMax: 39.5\tMean: 35.4\tMov. Avg: 33.5\n",
      "Episode 52 (219 sec)  -- \tMin: 23.4\tMax: 38.8\tMean: 33.8\tMov. Avg: 33.5\n",
      "Including Previous Runs -- Total Episodes 206  -- \tReal Mov. Avg: 29.0\n",
      "Episode 53 (220 sec)  -- \tMin: 5.8\tMax: 39.0\tMean: 32.2\tMov. Avg: 33.5\n",
      "Episode 54 (219 sec)  -- \tMin: 22.4\tMax: 37.6\tMean: 32.4\tMov. Avg: 33.5\n",
      "Episode 55 (220 sec)  -- \tMin: 24.0\tMax: 39.2\tMean: 33.6\tMov. Avg: 33.5\n",
      "Episode 56 (220 sec)  -- \tMin: 11.8\tMax: 38.5\tMean: 24.4\tMov. Avg: 33.3\n",
      "Including Previous Runs -- Total Episodes 210  -- \tReal Mov. Avg: 29.1\n",
      "Episode 57 (220 sec)  -- \tMin: 15.1\tMax: 30.0\tMean: 24.5\tMov. Avg: 33.1\n",
      "Episode 58 (220 sec)  -- \tMin: 15.2\tMax: 38.6\tMean: 25.4\tMov. Avg: 33.0\n",
      "Episode 59 (220 sec)  -- \tMin: 20.4\tMax: 36.6\tMean: 29.1\tMov. Avg: 32.9\n",
      "Episode 60 (220 sec)  -- \tMin: 17.0\tMax: 34.1\tMean: 26.5\tMov. Avg: 32.8\n",
      "Including Previous Runs -- Total Episodes 214  -- \tReal Mov. Avg: 29.0\n",
      "Episode 61 (220 sec)  -- \tMin: 23.7\tMax: 34.6\tMean: 29.1\tMov. Avg: 32.8\n",
      "Episode 62 (219 sec)  -- \tMin: 11.0\tMax: 34.3\tMean: 28.4\tMov. Avg: 32.7\n",
      "Episode 63 (220 sec)  -- \tMin: 20.7\tMax: 39.5\tMean: 28.4\tMov. Avg: 32.6\n",
      "Episode 64 (219 sec)  -- \tMin: 22.0\tMax: 37.2\tMean: 30.2\tMov. Avg: 32.6\n",
      "Including Previous Runs -- Total Episodes 218  -- \tReal Mov. Avg: 29.0\n",
      "Episode 65 (219 sec)  -- \tMin: 11.2\tMax: 37.8\tMean: 32.9\tMov. Avg: 32.6\n",
      "Episode 66 (219 sec)  -- \tMin: 28.5\tMax: 37.6\tMean: 34.3\tMov. Avg: 32.6\n",
      "Episode 67 (219 sec)  -- \tMin: 25.8\tMax: 38.5\tMean: 35.5\tMov. Avg: 32.7\n",
      "Episode 68 (219 sec)  -- \tMin: 33.2\tMax: 38.2\tMean: 36.2\tMov. Avg: 32.7\n",
      "Including Previous Runs -- Total Episodes 222  -- \tReal Mov. Avg: 29.1\n",
      "Episode 69 (220 sec)  -- \tMin: 29.6\tMax: 39.4\tMean: 35.6\tMov. Avg: 32.8\n",
      "Episode 70 (220 sec)  -- \tMin: 29.5\tMax: 39.6\tMean: 34.6\tMov. Avg: 32.8\n",
      "Episode 71 (219 sec)  -- \tMin: 34.1\tMax: 39.5\tMean: 37.4\tMov. Avg: 32.9\n",
      "Episode 72 (221 sec)  -- \tMin: 34.3\tMax: 39.6\tMean: 37.8\tMov. Avg: 32.9\n",
      "Including Previous Runs -- Total Episodes 226  -- \tReal Mov. Avg: 29.3\n",
      "Episode 73 (220 sec)  -- \tMin: 31.0\tMax: 39.6\tMean: 37.8\tMov. Avg: 33.0\n",
      "Episode 74 (220 sec)  -- \tMin: 29.4\tMax: 39.1\tMean: 36.0\tMov. Avg: 33.0\n",
      "Episode 75 (220 sec)  -- \tMin: 12.4\tMax: 38.3\tMean: 32.6\tMov. Avg: 33.0\n",
      "Episode 76 (219 sec)  -- \tMin: 28.6\tMax: 37.2\tMean: 33.7\tMov. Avg: 33.0\n",
      "Including Previous Runs -- Total Episodes 230  -- \tReal Mov. Avg: 29.4\n",
      "Episode 77 (219 sec)  -- \tMin: 25.8\tMax: 39.3\tMean: 35.9\tMov. Avg: 33.1\n",
      "Episode 78 (219 sec)  -- \tMin: 27.2\tMax: 39.3\tMean: 34.7\tMov. Avg: 33.1\n",
      "Episode 79 (219 sec)  -- \tMin: 30.6\tMax: 39.4\tMean: 36.7\tMov. Avg: 33.1\n",
      "Episode 80 (219 sec)  -- \tMin: 35.6\tMax: 39.6\tMean: 38.1\tMov. Avg: 33.2\n",
      "Including Previous Runs -- Total Episodes 234  -- \tReal Mov. Avg: 29.5\n",
      "Episode 81 (219 sec)  -- \tMin: 36.0\tMax: 39.5\tMean: 38.5\tMov. Avg: 33.3\n",
      "Episode 82 (219 sec)  -- \tMin: 32.8\tMax: 39.5\tMean: 37.8\tMov. Avg: 33.3\n",
      "Episode 83 (219 sec)  -- \tMin: 34.5\tMax: 39.6\tMean: 37.5\tMov. Avg: 33.4\n",
      "Episode 84 (220 sec)  -- \tMin: 31.9\tMax: 39.4\tMean: 37.9\tMov. Avg: 33.4\n",
      "Including Previous Runs -- Total Episodes 238  -- \tReal Mov. Avg: 29.6\n",
      "Episode 85 (220 sec)  -- \tMin: 35.4\tMax: 39.5\tMean: 37.9\tMov. Avg: 33.5\n",
      "Episode 86 (220 sec)  -- \tMin: 35.0\tMax: 39.3\tMean: 37.2\tMov. Avg: 33.5\n",
      "Episode 87 (220 sec)  -- \tMin: 31.5\tMax: 39.2\tMean: 35.1\tMov. Avg: 33.5\n",
      "Episode 88 (221 sec)  -- \tMin: 31.6\tMax: 38.9\tMean: 35.4\tMov. Avg: 33.6\n",
      "Including Previous Runs -- Total Episodes 242  -- \tReal Mov. Avg: 29.7\n",
      "Episode 89 (220 sec)  -- \tMin: 18.5\tMax: 39.1\tMean: 34.6\tMov. Avg: 33.6\n",
      "Episode 90 (220 sec)  -- \tMin: 33.3\tMax: 39.3\tMean: 37.1\tMov. Avg: 33.6\n",
      "Episode 91 (221 sec)  -- \tMin: 20.7\tMax: 38.7\tMean: 35.9\tMov. Avg: 33.6\n",
      "Episode 92 (220 sec)  -- \tMin: 29.3\tMax: 39.2\tMean: 35.4\tMov. Avg: 33.7\n",
      "Including Previous Runs -- Total Episodes 246  -- \tReal Mov. Avg: 29.8\n",
      "Episode 93 (221 sec)  -- \tMin: 30.8\tMax: 39.4\tMean: 35.6\tMov. Avg: 33.7\n",
      "Episode 94 (220 sec)  -- \tMin: 30.8\tMax: 37.7\tMean: 35.2\tMov. Avg: 33.7\n",
      "Episode 95 (221 sec)  -- \tMin: 30.3\tMax: 36.4\tMean: 34.4\tMov. Avg: 33.7\n",
      "Episode 96 (220 sec)  -- \tMin: 31.6\tMax: 38.8\tMean: 34.9\tMov. Avg: 33.7\n",
      "Including Previous Runs -- Total Episodes 250  -- \tReal Mov. Avg: 29.9\n",
      "Episode 97 (220 sec)  -- \tMin: 30.0\tMax: 38.3\tMean: 35.1\tMov. Avg: 33.7\n",
      "Episode 98 (221 sec)  -- \tMin: 27.3\tMax: 38.4\tMean: 33.3\tMov. Avg: 33.7\n",
      "Episode 99 (221 sec)  -- \tMin: 8.1\tMax: 39.4\tMean: 33.1\tMov. Avg: 33.7\n",
      "Episode 100 (221 sec)  -- \tMin: 27.0\tMax: 39.4\tMean: 36.3\tMov. Avg: 33.7\n",
      "Including Previous Runs -- Total Episodes 254  -- \tReal Mov. Avg: 30.0\n",
      "Episode 101 (221 sec)  -- \tMin: 31.3\tMax: 39.0\tMean: 35.7\tMov. Avg: 33.9\n",
      "\n",
      "Environment SOLVED in 155 episodes!\tMoving Average =30.1 over last 100 episodes\n"
     ]
    }
   ],
   "source": [
    "# run the training loop with the saved weights from the previous run\n",
    "actor_local.load_state_dict(torch.load('checkpoint_actor.pth'))\n",
    "critic_local.load_state_dict(torch.load('checkpoint_critic.pth'))\n",
    "update_targets(critic_local, critic_target)\n",
    "update_targets(actor_local, actor_target)    \n",
    "with active_session(): ### Remember to comment this line if running outside Udacity workspace\n",
    "    scores, avgs = ddpg(500, 1000, 30.0, 100, 1, 77+45+32, (77*20.3 + 45*35.9 + 32*33.2)/(77 + 45 + 32))"
   ]
  },
  {
   "cell_type": "markdown",
   "metadata": {},
   "source": [
    "### 7. Plot the training run (the last run only)\n",
    "### (Skip to step 8 to test the environment with trained agent)"
   ]
  },
  {
   "cell_type": "code",
   "execution_count": 22,
   "metadata": {},
   "outputs": [
    {
     "data": {
      "image/png": "[encoded data removed]",
      "text/plain": [
       "<matplotlib.figure.Figure at 0x7fa7d409a198>"
      ]
     },
     "metadata": {
      "needs_background": "light"
     },
     "output_type": "display_data"
    }
   ],
   "source": [
    "# plot the scores\n",
    "fig = plt.figure()\n",
    "ax = fig.add_subplot(111)\n",
    "plt.plot(np.arange(1, len(scores)+1), scores)\n",
    "plt.ylabel('Score')\n",
    "plt.xlabel('Episode #')\n",
    "plt.show()"
   ]
  },
  {
   "cell_type": "markdown",
   "metadata": {},
   "source": [
    "### 8. Test Trained Agent in the Environment\n",
    "\n",
    "Once this cell is executed, we can watch the agent's performance.  A window should pop up that allows us to observe the agent, as it moves through the environment. "
   ]
  },
  {
   "cell_type": "code",
   "execution_count": 23,
   "metadata": {},
   "outputs": [
    {
     "name": "stdout",
     "output_type": "stream",
     "text": [
      "Total score (averaged over agents) this episode: 36.53699918333441\n",
      "Total steps in this episode: 1001\n"
     ]
    }
   ],
   "source": [
    "#Load the previous trained weights\n",
    "#Need to turn on the GPU to even test it. Otherwise torch load results in error. \n",
    "actor_local.load_state_dict(torch.load('checkpoint_actor.pth'))\n",
    "critic_local.load_state_dict(torch.load('checkpoint_critic.pth'))\n",
    "\n",
    "env_info = env.reset(train_mode=False)[brain_name]     # reset the environment    \n",
    "states = env_info.vector_observations                  # get the current state (for each agent)\n",
    "scores = np.zeros(num_agents)                          # initialize the score (for each agent)\n",
    "steps = 0\n",
    "while True:\n",
    "    actions = agent(states, add_noise=False) \n",
    "    env_info = env.step(actions)[brain_name]           # send all actions to tne environment\n",
    "    next_states = env_info.vector_observations         # get next state (for each agent)\n",
    "    rewards = env_info.rewards                         # get reward (for each agent)\n",
    "    dones = env_info.local_done                        # see if episode finished\n",
    "    scores += env_info.rewards                         # update the score (for each agent)\n",
    "    states = next_states                               # roll over states to next time step\n",
    "    steps += 1\n",
    "    if np.any(dones):                                  # exit loop if episode finished\n",
    "        break\n",
    "print('Total score (averaged over agents) this episode: {}'.format(np.mean(scores)))\n",
    "print('Total steps in this episode: {}'.format(steps))"
   ]
  },
  {
   "cell_type": "markdown",
   "metadata": {},
   "source": [
    "### 9. Plot Scores\n",
    "\n",
    "Plot the scores from all the runs"
   ]
  },
  {
   "cell_type": "code",
   "execution_count": 31,
   "metadata": {},
   "outputs": [],
   "source": [
    "scores_from_all_runs = [\\\n",
    "2,\\\n",
    "2.3,\\\n",
    "3.5,\\\n",
    "4.1,\\\n",
    "3.7,\\\n",
    "4.2,\\\n",
    "5.7,\\\n",
    "7.3,\\\n",
    "8.1,\\\n",
    "8.2,\\\n",
    "8.9,\\\n",
    "11,\\\n",
    "11.8,\\\n",
    "12.9,\\\n",
    "11.8,\\\n",
    "12,\\\n",
    "12.2,\\\n",
    "13.4,\\\n",
    "14.5,\\\n",
    "15.1,\\\n",
    "14.4,\\\n",
    "16.1,\\\n",
    "15.5,\\\n",
    "16.6,\\\n",
    "16.3,\\\n",
    "17,\\\n",
    "18,\\\n",
    "18.2,\\\n",
    "19.3,\\\n",
    "20.1,\\\n",
    "18.9,\\\n",
    "21.3,\\\n",
    "21.3,\\\n",
    "20.8,\\\n",
    "21.6,\\\n",
    "22,\\\n",
    "22.4,\\\n",
    "22.2,\\\n",
    "21.5,\\\n",
    "22.2,\\\n",
    "21.1,\\\n",
    "20.7,\\\n",
    "22.2,\\\n",
    "21.8,\\\n",
    "23,\\\n",
    "22.8,\\\n",
    "21,\\\n",
    "21.6,\\\n",
    "23.2,\\\n",
    "22.9,\\\n",
    "22.7,\\\n",
    "22.4,\\\n",
    "23.7,\\\n",
    "25.6,\\\n",
    "28.9,\\\n",
    "26.2,\\\n",
    "27.5,\\\n",
    "26.8,\\\n",
    "30.2,\\\n",
    "29,\\\n",
    "28,\\\n",
    "28.6,\\\n",
    "28.9,\\\n",
    "29.7,\\\n",
    "31.1,\\\n",
    "32.7,\\\n",
    "30.6,\\\n",
    "28.2,\\\n",
    "29.8,\\\n",
    "30.8,\\\n",
    "32.6,\\\n",
    "31.2,\\\n",
    "33.1,\\\n",
    "32.5,\\\n",
    "30.9,\\\n",
    "29.5,\\\n",
    "31.7,\\\n",
    "16.4,\\\n",
    "19.9,\\\n",
    "26.9,\\\n",
    "31.5,\\\n",
    "34.8,\\\n",
    "35.7,\\\n",
    "35.2,\\\n",
    "37.1,\\\n",
    "37.5,\\\n",
    "36.5,\\\n",
    "36.2,\\\n",
    "36.2,\\\n",
    "37.7,\\\n",
    "37.2,\\\n",
    "35.8,\\\n",
    "37.2,\\\n",
    "37.7,\\\n",
    "36.4,\\\n",
    "36.6,\\\n",
    "37,\\\n",
    "37.6,\\\n",
    "37.9,\\\n",
    "37.7,\\\n",
    "38.5,\\\n",
    "38,\\\n",
    "37.9,\\\n",
    "37.9,\\\n",
    "38.2,\\\n",
    "37.8,\\\n",
    "36.2,\\\n",
    "38.3,\\\n",
    "37.3,\\\n",
    "38,\\\n",
    "38.6,\\\n",
    "37.7,\\\n",
    "38.6,\\\n",
    "37.9,\\\n",
    "38.1,\\\n",
    "36.6,\\\n",
    "35.6,\\\n",
    "38.2,\\\n",
    "34.5,\\\n",
    "37.5,\\\n",
    "23.9,\\\n",
    "26.1,\\\n",
    "31.5,\\\n",
    "31.7,\\\n",
    "35.7,\\\n",
    "34.7,\\\n",
    "34.2,\\\n",
    "34.2,\\\n",
    "35.7,\\\n",
    "31.7,\\\n",
    "34,\\\n",
    "32,\\\n",
    "35.4,\\\n",
    "35.6,\\\n",
    "31.5,\\\n",
    "35.3,\\\n",
    "33.4,\\\n",
    "35.1,\\\n",
    "33.9,\\\n",
    "31.1,\\\n",
    "34,\\\n",
    "34.1,\\\n",
    "32.3,\\\n",
    "31.6,\\\n",
    "33.6,\\\n",
    "32.9,\\\n",
    "32.6,\\\n",
    "32.8,\\\n",
    "36.6,\\\n",
    "36.2,\\\n",
    "34.4,\\\n",
    "20.8,\\\n",
    "26.4,\\\n",
    "25.4,\\\n",
    "25.2,\\\n",
    "32.5,\\\n",
    "33.6,\\\n",
    "30.6,\\\n",
    "32.7,\\\n",
    "32.2,\\\n",
    "33.6,\\\n",
    "34.6,\\\n",
    "34.4,\\\n",
    "35,\\\n",
    "34.8,\\\n",
    "32.3,\\\n",
    "32.8,\\\n",
    "35.7,\\\n",
    "33.4,\\\n",
    "31.4,\\\n",
    "34.2,\\\n",
    "34.5,\\\n",
    "32.4,\\\n",
    "35,\\\n",
    "37.1,\\\n",
    "36.5,\\\n",
    "34.6,\\\n",
    "35,\\\n",
    "32.1,\\\n",
    "33.7,\\\n",
    "34.1,\\\n",
    "33.8,\\\n",
    "34.6,\\\n",
    "34.8,\\\n",
    "32.8,\\\n",
    "33.6,\\\n",
    "35.3,\\\n",
    "34.6,\\\n",
    "36.8,\\\n",
    "34.4,\\\n",
    "33.3,\\\n",
    "33,\\\n",
    "36.2,\\\n",
    "35.9,\\\n",
    "33.5,\\\n",
    "36.9,\\\n",
    "35.6,\\\n",
    "34.2,\\\n",
    "35.1,\\\n",
    "36.2,\\\n",
    "35.5,\\\n",
    "35.4,\\\n",
    "33.8,\\\n",
    "32.2,\\\n",
    "32.4,\\\n",
    "33.6,\\\n",
    "24.4,\\\n",
    "24.5,\\\n",
    "25.4,\\\n",
    "29.1,\\\n",
    "26.5,\\\n",
    "29.1,\\\n",
    "28.4,\\\n",
    "28.4,\\\n",
    "30.2,\\\n",
    "32.9,\\\n",
    "34.3,\\\n",
    "35.5,\\\n",
    "36.2,\\\n",
    "35.6,\\\n",
    "34.6,\\\n",
    "37.4,\\\n",
    "37.8,\\\n",
    "37.8,\\\n",
    "36,\\\n",
    "32.6,\\\n",
    "33.7,\\\n",
    "35.9,\\\n",
    "34.7,\\\n",
    "36.7,\\\n",
    "38.1,\\\n",
    "38.5,\\\n",
    "37.8,\\\n",
    "37.5,\\\n",
    "37.9,\\\n",
    "37.9,\\\n",
    "37.2,\\\n",
    "35.1,\\\n",
    "35.4,\\\n",
    "34.6,\\\n",
    "37.1,\\\n",
    "35.9,\\\n",
    "35.4,\\\n",
    "35.6,\\\n",
    "35.2,\\\n",
    "34.4,\\\n",
    "34.9,\\\n",
    "35.1,\\\n",
    "33.3,\\\n",
    "33.1,\\\n",
    "36.3,\\\n",
    "35.7]"
   ]
  },
  {
   "cell_type": "code",
   "execution_count": 32,
   "metadata": {},
   "outputs": [
    {
     "data": {
      "image/png": "[encoded data removed]",
      "text/plain": [
       "<matplotlib.figure.Figure at 0x7f06bdb70a58>"
      ]
     },
     "metadata": {
      "needs_background": "light"
     },
     "output_type": "display_data"
    }
   ],
   "source": [
    "# plot the scores from all the runs\n",
    "fig = plt.figure()\n",
    "ax = fig.add_subplot(111)\n",
    "plt.plot(np.arange(1, len(scores_from_all_runs)+1), scores_from_all_runs)\n",
    "plt.ylabel('Score')\n",
    "plt.xlabel('Episode #')\n",
    "plt.show()"
   ]
  },
  {
   "cell_type": "markdown",
   "metadata": {},
   "source": [
    "When finished, you can close the environment."
   ]
  },
  {
   "cell_type": "code",
   "execution_count": 21,
   "metadata": {},
   "outputs": [],
   "source": [
    "env.close()"
   ]
  },
  {
   "cell_type": "code",
   "execution_count": null,
   "metadata": {},
   "outputs": [],
   "source": []
  }
 ],
 "metadata": {
  "kernelspec": {
   "display_name": "drlnd",
   "language": "python",
   "name": "drlnd"
  },
  "language_info": {
   "codemirror_mode": {
    "name": "ipython",
    "version": 3
   },
   "file_extension": ".py",
   "mimetype": "text/x-python",
   "name": "python",
   "nbconvert_exporter": "python",
   "pygments_lexer": "ipython3",
   "version": "3.6.10"
  }
 },
 "nbformat": 4,
 "nbformat_minor": 2
}
